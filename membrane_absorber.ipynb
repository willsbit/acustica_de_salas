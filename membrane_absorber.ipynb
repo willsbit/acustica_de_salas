{
 "cells": [
  {
   "cell_type": "markdown",
   "id": "37d096c8-9aef-4206-9319-072005a90f9a",
   "metadata": {},
   "source": [
    "## Modelagem de absorvedores de membrana"
   ]
  },
  {
   "cell_type": "code",
   "execution_count": null,
   "id": "1f39bdd6-2aa3-4a55-804b-11ca48364304",
   "metadata": {},
   "outputs": [],
   "source": [
    "import numpy as np\n",
    "import matplotlib.pyplot as plt\n",
    "from macroscopic_models import delany_bazley, jca\n",
    "\n",
    "%matplotlib inline\n",
    "%config InlineBackend.figure_format = 'svg'"
   ]
  },
  {
   "cell_type": "code",
   "execution_count": null,
   "id": "612db468-9e5f-43e7-9938-8ce8f8bca064",
   "metadata": {},
   "outputs": [],
   "source": [
    "# define frequency space\n",
    "f_start = 20\n",
    "f_end = 10000\n",
    "f = np.arange(f_start, f_end, step=1)\n",
    "omega = 2 * np.pi * f\n",
    "\n",
    "# air properties\n",
    "rho0 = 1.21  # [kg/m³] air density\n",
    "c0 = 343  # [m/s] sound speed\n",
    "k0 = omega / c0"
   ]
  },
  {
   "cell_type": "markdown",
   "id": "828ac434-043b-496d-b9d3-91ceec8bd535",
   "metadata": {},
   "source": [
    "### 1. Variação da massa"
   ]
  },
  {
   "cell_type": "markdown",
   "id": "f7304454-373f-4afd-9544-32d296b5a0c2",
   "metadata": {},
   "source": [
    "### 1.1. Influência da espessura da membrana"
   ]
  },
  {
   "cell_type": "code",
   "execution_count": null,
   "id": "cac12e97-f21b-4bed-a266-133af73c657d",
   "metadata": {},
   "outputs": [],
   "source": [
    "# membrane properties\n",
    "D = 0.10  # [m] size of the air gap\n",
    "membrane_thicknesses = np.array(\n",
    "    [0.1e-3, 0.3e-3, 0.5e-3, 0.9e-3]\n",
    ")  # [m] membrane thickness\n",
    "rho_m = 1300  # [kg/m^3] specific mass of the membrane\n",
    "surface_densities = membrane_thicknesses * rho_m  # [kg/m^2]\n",
    "\n",
    "# porous material properties\n",
    "d = 0.07  # [m] depth of porous material\n",
    "sigma = 15000  # [N*s/m^4] flux resistivity\n",
    "Zp, kp = jca(\n",
    "    f, sigma, tortuosity=1.1, porosity=0.96, viscous_characteristic_length=1e-4\n",
    ")  # JCA parameters\n",
    "\n",
    "# plot setup\n",
    "fig, ax = plt.subplots(figsize=(8, 5))\n",
    "ax.set_title(r\"Efeito da variação da espessura da membrana no coeficiente de absorção\")\n",
    "ax.set_xlabel(\"Frequência [Hz]\")\n",
    "ax.set_ylabel(r\"$\\alpha$ [-]\")\n",
    "ax.set_xlim(f_start, f_end)\n",
    "ax.set_ylim(-0.2, 1.2)\n",
    "ax.grid(axis=\"both\", which=\"both\", linestyle=\"--\", alpha=0.4)\n",
    "\n",
    "labels = [\n",
    "    r\"$t = 0.1~[\\text{mm}]$\",\n",
    "    r\"$t = 0.3~[\\text{mm}]$\",\n",
    "    r\"$t = 0.5~[\\text{mm}]$\",\n",
    "    r\"$t = 0.9~[\\text{mm}]$\",\n",
    "]\n",
    "\n",
    "\n",
    "for surface_density, label in zip(surface_densities, labels):\n",
    "    # estimating the ressonance frequency —— in reality, it will be somewhere between f50 and f60\n",
    "    f50 = 50 / np.sqrt(surface_density * D)\n",
    "    f60 = 60 / np.sqrt(surface_density * D)\n",
    "    Zm = 1j * omega * surface_density  # membrane impedance\n",
    "\n",
    "    # fmt: off\n",
    "    Zsp = -1j*Zp / np.tan(kp*d) # impedance on top of the porous material layer\n",
    "    Zsi = (((-1j*Zsp*rho0*c0) / (np.tan(k0*(D - d)))) + (rho0*c0)**2) / (Zsp - ((1j*rho0*c0) / (np.tan(k0*(D - d))))) # impedance on top of the air layer\n",
    "    # fmt: on\n",
    "\n",
    "    Zs = Zm + Zsi  # total impedance (series association)\n",
    "\n",
    "    Vp = (Zs - (rho0 * c0)) / (Zs + (rho0 * c0))  # reflection coefficient\n",
    "    alpha = 1 - (abs(Vp)) ** 2  # absorption coefficient\n",
    "    ax.semilogx(f, alpha, label=label)\n",
    "ax.legend()\n",
    "plt.show()"
   ]
  }
 ],
 "metadata": {
  "kernelspec": {
   "display_name": "Python 3 (ipykernel)",
   "language": "python",
   "name": "python3"
  },
  "language_info": {
   "codemirror_mode": {
    "name": "ipython",
    "version": 3
   },
   "file_extension": ".py",
   "mimetype": "text/x-python",
   "name": "python",
   "nbconvert_exporter": "python",
   "pygments_lexer": "ipython3",
   "version": "3.13.2"
  }
 },
 "nbformat": 4,
 "nbformat_minor": 5
}
