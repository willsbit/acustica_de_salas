{
 "cells": [
  {
   "cell_type": "markdown",
   "id": "92906cb4-8b70-4739-b13d-cc8a34885fc9",
   "metadata": {},
   "source": [
    "## Modelagem de absorvedores porosos"
   ]
  },
  {
   "cell_type": "code",
   "execution_count": null,
   "id": "03c08c1f-ae12-40d9-b32f-917821b9ea5e",
   "metadata": {},
   "outputs": [],
   "source": [
    "import numpy as np\n",
    "import matplotlib.pyplot as plt\n",
    "from utils import delany_bazley, jca\n",
    "\n",
    "%matplotlib inline\n",
    "%config InlineBackend.figure_format = 'svg'"
   ]
  },
  {
   "cell_type": "code",
   "execution_count": null,
   "id": "2df85eff-40b1-427e-8ea3-42693d0f4ba3",
   "metadata": {},
   "outputs": [],
   "source": [
    "# define frequency space\n",
    "f_start = 100\n",
    "f_end = 10000\n",
    "f = np.arange(f_start, f_end, step=1)\n",
    "\n",
    "# air properties\n",
    "rho0 = 1.21  # [kg/m³] air density\n",
    "c0 = 343  # [m/s] sound speed"
   ]
  },
  {
   "cell_type": "markdown",
   "id": "6034af8d-81e8-4b43-bf86-4a6c935ed182",
   "metadata": {},
   "source": [
    "### 1. Absorvedor poroso sobre superfície rígida"
   ]
  },
  {
   "cell_type": "markdown",
   "id": "b03040ed-0df1-48af-b700-6fb4b0f2f484",
   "metadata": {},
   "source": [
    "#### 1.1. Influência da espessura"
   ]
  },
  {
   "cell_type": "code",
   "execution_count": null,
   "id": "87c630db-e785-484f-b20d-e2eba303f7f4",
   "metadata": {},
   "outputs": [],
   "source": [
    "# material properties\n",
    "depths = [0.025, 0.050, 0.100]  # [m] depth\n",
    "sigma = 10000  # [N*s/m^4] flux resistivity\n",
    "Zc, kc = delany_bazley(f, sigma, c0, rho0)  # delany-basley parameters\n",
    "\n",
    "fig, ax = plt.subplots(figsize=(8, 5))\n",
    "\n",
    "ax.set_title(r\"Efeito da variação da espessura no coeficiente de absorção\")\n",
    "\n",
    "ax.set_xlabel(\"Frequência [Hz]\")\n",
    "ax.set_ylabel(r\"$\\alpha$ [-]\")\n",
    "ax.set_xlim(f_start, f_end)\n",
    "ax.set_ylim(-0.2, 1.2)\n",
    "ax.grid(axis=\"both\", which=\"both\", linestyle=\"--\", alpha=0.4)\n",
    "\n",
    "labels = [r\"$d = 25~\\text{[mm]}$\", r\"$d = 50~\\text{[mm]}$\", r\"$d = 100~\\text{[mm]}$\"]\n",
    "\n",
    "for d, label in zip(depths, labels):\n",
    "    Zs = -1j * (Zc / np.tan(kc * d))  # surface impedance\n",
    "    Vp = (Zs - (rho0 * c0)) / (Zs + (rho0 * c0))  # reflection coefficient\n",
    "    alpha = 1 - (abs(Vp)) ** 2  # absorption coefficient\n",
    "\n",
    "    ax.semilogx(f, alpha, label=label)\n",
    "\n",
    "ax.legend()\n",
    "plt.show()"
   ]
  },
  {
   "cell_type": "markdown",
   "id": "d8190455-dc72-4ef0-b15f-9a3a530cecef",
   "metadata": {},
   "source": [
    "#### 1.2. Influência da resistividade ao fluxo"
   ]
  },
  {
   "cell_type": "code",
   "execution_count": null,
   "id": "6d9520fb-c907-4dc6-93f3-c10aa71150a0",
   "metadata": {},
   "outputs": [],
   "source": [
    "# material properties\n",
    "d = 0.025\n",
    "flux_resistivities = [25e3, 50e3, 100e3]  # [N*s/m^4] flux resistivity\n",
    "\n",
    "fig, ax = plt.subplots(figsize=(8, 5))\n",
    "\n",
    "ax.set_title(r\"Efeito da variação da resistividade ao fluxo no coeficiente de absorção\")\n",
    "\n",
    "ax.set_xlabel(\"Frequência [Hz]\")\n",
    "ax.set_ylabel(r\"$\\alpha$ [-]\")\n",
    "ax.set_xlim(f_start, f_end)\n",
    "ax.set_ylim(-0.2, 1.2)\n",
    "ax.grid(axis=\"both\", which=\"both\", linestyle=\"--\", alpha=0.4)\n",
    "labels = [\n",
    "    r\"$\\sigma = 25000~[\\text{Ns/m}^4]$\",\n",
    "    r\"$\\sigma = 50000~[\\text{Ns/m}^4]$\",\n",
    "    r\"$\\sigma = 100000~[\\text{Ns/m}^4$\",\n",
    "]\n",
    "\n",
    "for sigma, label in zip(flux_resistivities, labels):\n",
    "    Zc, kc = delany_bazley(f, sigma, c0, rho0)  # delany-basley parameters\n",
    "    Zs = -1j * (Zc / np.tan(kc * d))  # surface impedance\n",
    "    Vp = (Zs - (rho0 * c0)) / (Zs + (rho0 * c0))  # reflection coefficient\n",
    "    alpha = 1 - (abs(Vp)) ** 2  # absorption coefficient\n",
    "\n",
    "    ax.semilogx(f, alpha, label=label)\n",
    "\n",
    "ax.legend()\n",
    "plt.show()"
   ]
  },
  {
   "cell_type": "markdown",
   "id": "0d728185-f8e5-44ef-9468-6268f0e21f51",
   "metadata": {},
   "source": [
    "### 2. Absorvedor poroso sobre gap de ar"
   ]
  },
  {
   "cell_type": "markdown",
   "id": "a97096a5-f650-4a88-9949-41c4c8a138bb",
   "metadata": {},
   "source": [
    "#### 2.1. Influência do tamanho do colchão de ar"
   ]
  },
  {
   "cell_type": "code",
   "execution_count": null,
   "id": "fdbfe28c-e7dd-400c-b300-306118cdc53c",
   "metadata": {},
   "outputs": [],
   "source": [
    "k0 = (2 * np.pi * f) / c0\n",
    "sigma = 25000\n",
    "air_gaps = [0.035, 0.050]  # [m] air gap\n",
    "d = 0.025\n",
    "\n",
    "fig, ax = plt.subplots(figsize=(8, 5))\n",
    "\n",
    "labels = [r\"$D = 35~[\\text{mm}]$\", r\"$D = 50~[\\text{mm}]$\"]\n",
    "\n",
    "\n",
    "ax.set_title(r\"Efeito da variação do gap de ar no coeficiente de absorção\")\n",
    "ax.set_xlabel(\"Frequência [Hz]\")\n",
    "ax.set_ylabel(r\"$\\alpha$ [-]\")\n",
    "ax.set_xlim(f_start, f_end)\n",
    "ax.set_ylim(-0.2, 1.2)\n",
    "ax.grid(axis=\"both\", which=\"both\", linestyle=\"--\", alpha=0.4)\n",
    "\n",
    "# add absorber over rigid surface\n",
    "Zc, kc = delany_bazley(f, sigma, c0, rho0)\n",
    "Zs = -1j * (Zc / np.tan(kc * d))  # surface impedance\n",
    "Vp = (Zs - (rho0 * c0)) / (Zs + (rho0 * c0))  # reflection coefficient\n",
    "alpha = 1 - (abs(Vp)) ** 2  # absorption coefficient\n",
    "ax.semilogx(f, alpha, label=r\"$d = 25~[\\text{mm}]$\")\n",
    "\n",
    "\n",
    "# add traces with air gap\n",
    "for D, label in zip(air_gaps, labels):\n",
    "    Zs_ar = -1j * rho0 * c0 / np.tan(k0 * (D - d))\n",
    "    Zc, kc = delany_bazley(f, sigma, c0, rho0)  # delany-basley parameters\n",
    "    Zs = (((-1j * Zs_ar * Zc) / np.tan(kc * d)) + Zc**2) / (\n",
    "        Zs_ar - ((1j * Zc) / np.tan(kc * d))\n",
    "    )  # two layer system surface impedance\n",
    "    Vp = (Zs - (rho0 * c0)) / (Zs + (rho0 * c0))  # reflection coefficient\n",
    "    alpha = 1 - (abs(Vp)) ** 2  # absorption coefficient\n",
    "    ax.semilogx(f, alpha, label=label)\n",
    "\n",
    "\n",
    "ax.legend()\n",
    "plt.show()"
   ]
  }
 ],
 "metadata": {
  "kernelspec": {
   "display_name": "Python 3 (ipykernel)",
   "language": "python",
   "name": "python3"
  },
  "language_info": {
   "codemirror_mode": {
    "name": "ipython",
    "version": 3
   },
   "file_extension": ".py",
   "mimetype": "text/x-python",
   "name": "python",
   "nbconvert_exporter": "python",
   "pygments_lexer": "ipython3",
   "version": "3.13.2"
  }
 },
 "nbformat": 4,
 "nbformat_minor": 5
}
